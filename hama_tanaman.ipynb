{
  "nbformat": 4,
  "nbformat_minor": 0,
  "metadata": {
    "colab": {
      "provenance": [],
      "authorship_tag": "ABX9TyMdQZEbad2Vk4scF8bKct3s",
      "include_colab_link": true
    },
    "kernelspec": {
      "name": "python3",
      "display_name": "Python 3"
    },
    "language_info": {
      "name": "python"
    }
  },
  "cells": [
    {
      "cell_type": "markdown",
      "metadata": {
        "id": "view-in-github",
        "colab_type": "text"
      },
      "source": [
        "<a href=\"https://colab.research.google.com/github/vitogunawan18/UTS_kecerdasan_buatan/blob/main/hama_tanaman.ipynb\" target=\"_parent\"><img src=\"https://colab.research.google.com/assets/colab-badge.svg\" alt=\"Open In Colab\"/></a>"
      ]
    },
    {
      "cell_type": "code",
      "execution_count": 1,
      "metadata": {
        "colab": {
          "base_uri": "https://localhost:8080/"
        },
        "id": "dCv0DNk3ttvb",
        "outputId": "232150b2-c8e0-41a5-c03c-7efb99b29a54"
      },
      "outputs": [
        {
          "output_type": "stream",
          "name": "stdout",
          "text": [
            "Hama yang terdeteksi: Kutu Daun (Aphids)\n"
          ]
        }
      ],
      "source": [
        "def deteksi_hama(daun_menguning, bercak_hitam, daun_berlubang, tanaman_layu):\n",
        "    if daun_menguning and tanaman_layu and not daun_berlubang and not bercak_hitam:\n",
        "        return \"Kutu Daun (Aphids)\"\n",
        "    elif daun_berlubang and not daun_menguning and not bercak_hitam:\n",
        "        return \"Ulat Daun\"\n",
        "    elif bercak_hitam and daun_menguning and not daun_berlubang:\n",
        "        return \"Penyakit Jamur\"\n",
        "    elif tanaman_layu and not daun_menguning and not bercak_hitam and not daun_berlubang:\n",
        "        return \"Busuk Akar\"\n",
        "    elif bercak_hitam and daun_menguning and daun_berlubang:\n",
        "        return \"Tungau\"\n",
        "    else:\n",
        "        return \"Gejala tidak dikenali\"\n",
        "\n",
        "# Contoh pemakaian:\n",
        "hasil = deteksi_hama(True, False, False, True)\n",
        "print(\"Hama yang terdeteksi:\", hasil)\n"
      ]
    }
  ]
}